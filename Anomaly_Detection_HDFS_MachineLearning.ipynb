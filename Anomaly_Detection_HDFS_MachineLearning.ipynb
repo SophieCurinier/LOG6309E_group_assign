{
 "cells": [
  {
   "cell_type": "markdown",
   "metadata": {},
   "source": [
    "# Configuration\n",
    "## Import needed librairies and dependencies"
   ]
  },
  {
   "cell_type": "code",
   "execution_count": 1,
   "metadata": {},
   "outputs": [],
   "source": [
    "from sklearn.linear_model import LogisticRegression\n",
    "from sklearn.tree import DecisionTreeClassifier\n",
    "\n",
    "from sklearn.feature_extraction.text import CountVectorizer\n",
    "\n",
    "from sklearn.metrics import precision_recall_fscore_support\n",
    "from sklearn.metrics import precision_recall_curve\n",
    "from sklearn.metrics import roc_auc_score\n",
    "from sklearn.metrics import roc_curve\n",
    "import matplotlib.pyplot as plt\n",
    "import pandas as pd\n",
    "import numpy as np\n",
    "import re\n",
    "from sklearn.utils import shuffle\n",
    "from collections import OrderedDict\n",
    "from collections import Counter"
   ]
  },
  {
   "cell_type": "code",
   "execution_count": 2,
   "metadata": {},
   "outputs": [],
   "source": [
    "## Import data\n",
    "data_df = pd.read_csv('result/HDFS/HDFS_ReadToExploitData.csv', engine='c', na_filter=False, memory_map=True)"
   ]
  },
  {
   "cell_type": "markdown",
   "metadata": {},
   "source": [
    "# Spliting the data into training and testing subsets\n",
    "We split the data into 70% training data and 30% testing data."
   ]
  },
  {
   "cell_type": "code",
   "execution_count": 3,
   "metadata": {},
   "outputs": [],
   "source": [
    "def _split_data(x_data, y_data, train_ratio=0.5):\n",
    "    pos_idx = y_data > 0\n",
    "    x_pos = x_data[pos_idx]\n",
    "    y_pos = y_data[pos_idx]\n",
    "    x_neg = x_data[~pos_idx]\n",
    "    y_neg = y_data[~pos_idx]\n",
    "    train_pos = int(train_ratio * x_pos.shape[0])\n",
    "    train_neg = int(train_ratio * x_neg.shape[0])\n",
    "    x_train = np.hstack([x_pos[0:train_pos], x_neg[0:train_neg]])\n",
    "    y_train = np.hstack([y_pos[0:train_pos], y_neg[0:train_neg]])\n",
    "    x_test = np.hstack([x_pos[train_pos:], x_neg[train_neg:]])\n",
    "    y_test = np.hstack([y_pos[train_pos:], y_neg[train_neg:]])\n",
    "\n",
    "    return (x_train, y_train), (x_test, y_test)"
   ]
  },
  {
   "cell_type": "markdown",
   "metadata": {},
   "source": [
    "Suffle and split the data into 70% training and 30% testing data."
   ]
  },
  {
   "cell_type": "code",
   "execution_count": 4,
   "metadata": {},
   "outputs": [
    {
     "data": {
      "text/html": [
       "<div>\n",
       "<style scoped>\n",
       "    .dataframe tbody tr th:only-of-type {\n",
       "        vertical-align: middle;\n",
       "    }\n",
       "\n",
       "    .dataframe tbody tr th {\n",
       "        vertical-align: top;\n",
       "    }\n",
       "\n",
       "    .dataframe thead th {\n",
       "        text-align: right;\n",
       "    }\n",
       "</style>\n",
       "<table border=\"1\" class=\"dataframe\">\n",
       "  <thead>\n",
       "    <tr style=\"text-align: right;\">\n",
       "      <th></th>\n",
       "      <th>BlockId</th>\n",
       "      <th>EventSequence</th>\n",
       "      <th>Label</th>\n",
       "    </tr>\n",
       "  </thead>\n",
       "  <tbody>\n",
       "    <tr>\n",
       "      <th>0</th>\n",
       "      <td>blk_4969054556300945467</td>\n",
       "      <td>['09a53393', '09a53393', '3d91fa85', '09a53393...</td>\n",
       "      <td>0</td>\n",
       "    </tr>\n",
       "    <tr>\n",
       "      <th>1</th>\n",
       "      <td>blk_-7263169389307688606</td>\n",
       "      <td>['09a53393', '3d91fa85', '09a53393', '09a53393...</td>\n",
       "      <td>0</td>\n",
       "    </tr>\n",
       "    <tr>\n",
       "      <th>2</th>\n",
       "      <td>blk_9046758658810461319</td>\n",
       "      <td>['3d91fa85', '09a53393', '09a53393', '09a53393...</td>\n",
       "      <td>0</td>\n",
       "    </tr>\n",
       "    <tr>\n",
       "      <th>3</th>\n",
       "      <td>blk_-6769102211997257430</td>\n",
       "      <td>['09a53393', '09a53393', '09a53393', '3d91fa85...</td>\n",
       "      <td>0</td>\n",
       "    </tr>\n",
       "    <tr>\n",
       "      <th>4</th>\n",
       "      <td>blk_4747591041845686405</td>\n",
       "      <td>['09a53393', '3d91fa85', '09a53393', '09a53393...</td>\n",
       "      <td>0</td>\n",
       "    </tr>\n",
       "  </tbody>\n",
       "</table>\n",
       "</div>"
      ],
      "text/plain": [
       "                    BlockId  \\\n",
       "0   blk_4969054556300945467   \n",
       "1  blk_-7263169389307688606   \n",
       "2   blk_9046758658810461319   \n",
       "3  blk_-6769102211997257430   \n",
       "4   blk_4747591041845686405   \n",
       "\n",
       "                                       EventSequence  Label  \n",
       "0  ['09a53393', '09a53393', '3d91fa85', '09a53393...      0  \n",
       "1  ['09a53393', '3d91fa85', '09a53393', '09a53393...      0  \n",
       "2  ['3d91fa85', '09a53393', '09a53393', '09a53393...      0  \n",
       "3  ['09a53393', '09a53393', '09a53393', '3d91fa85...      0  \n",
       "4  ['09a53393', '3d91fa85', '09a53393', '09a53393...      0  "
      ]
     },
     "execution_count": 4,
     "metadata": {},
     "output_type": "execute_result"
    }
   ],
   "source": [
    "# Shuffle the data\n",
    "data_df = data_df.sample(frac=1).reset_index(drop=True)\n",
    "data_df.head(5)"
   ]
  },
  {
   "cell_type": "code",
   "execution_count": 5,
   "metadata": {},
   "outputs": [],
   "source": [
    "# Split train and test data\n",
    "train_ratio = 0.7\n",
    "(x_train, y_train), (x_test, y_test) = _split_data(data_df['EventSequence'].values,\n",
    "    data_df['Label'].values, train_ratio)"
   ]
  },
  {
   "cell_type": "code",
   "execution_count": 6,
   "metadata": {},
   "outputs": [
    {
     "name": "stdout",
     "output_type": "stream",
     "text": [
      "Total: 575061 instances, 16838 anomaly, 558223 normal\n",
      "Train: 402542 instances, 11786 anomaly, 390756 normal\n",
      "Test: 172519 instances, 5052 anomaly, 167467 normal\n",
      "\n",
      "====== x_train (first five lines) ======\n",
      "[\"['09a53393', '3d91fa85', '09a53393', '09a53393', '0567184d', '0567184d', 'd38aa58d', 'e3df2680', 'd38aa58d', 'e3df2680', '0567184d', 'd38aa58d', 'e3df2680', '5d5de21c', '5d5de21c', '5d5de21c', 'd63ef163', 'd63ef163', 'd63ef163', 'dba996ef', 'dba996ef', 'dba996ef']\"\n",
      " \"['3d91fa85', '09a53393', '09a53393', '09a53393', '5d5de21c', '5d5de21c', 'd38aa58d', 'e3df2680', 'd38aa58d', 'e3df2680', 'd38aa58d', 'e3df2680', '5d5de21c', '626085d5', '626085d5', '81cee340', '626085d5', '626085d5', '81cee340', '81cee340', '626085d5', '626085d5', '81cee340', '626085d5', '626085d5', 'd63ef163', 'd63ef163', 'd63ef163', 'dba996ef', 'dba996ef', '8f2bc724', '5d5de21c', 'dba996ef']\"\n",
      " \"['09a53393', '3d91fa85', '09a53393', '09a53393', 'd38aa58d', 'e3df2680', 'd38aa58d', 'e3df2680', 'd38aa58d', 'e3df2680', '5d5de21c', '5d5de21c', '728076ac', '09a53393', '40651754', 'd6b7b743', '73c2ec69', '5d5de21c', '5d5de21c', 'dba996ef', '728076ac', '40651754', '09a53393', '73c2ec69', 'd6b7b743', '5d5de21c', '5d5de21c', 'dba996ef', 'd63ef163', 'd63ef163', 'd63ef163', 'dba996ef', 'dba996ef', 'dba996ef']\"\n",
      " \"['3d91fa85', '09a53393', '09a53393', '09a53393', '5d5de21c', '5d5de21c', 'd38aa58d', 'e3df2680', 'd38aa58d', 'e3df2680', 'd38aa58d', 'e3df2680', '728076ac', '40651754', '09a53393', '4610d0f1', '68429f34', '5d5de21c', '81cee340', '626085d5', '81cee340', '32777b38', '32777b38', '32777b38', 'd63ef163', 'd63ef163', 'd63ef163', 'dba996ef', 'dba996ef', 'dba996ef']\"\n",
      " \"['3d91fa85', '09a53393', '09a53393', 'bcc910df']\"]\n",
      "====== y_train (first five lines) ======\n",
      "[1 1 1 1 1]\n"
     ]
    }
   ],
   "source": [
    "num_train = x_train.shape[0]\n",
    "num_test = x_test.shape[0]\n",
    "num_total = num_train + num_test\n",
    "num_train_pos = sum(y_train)\n",
    "num_test_pos = sum(y_test)\n",
    "num_pos = num_train_pos + num_test_pos\n",
    "\n",
    "print('Total: {} instances, {} anomaly, {} normal' \\\n",
    "      .format(num_total, num_pos, num_total - num_pos))\n",
    "print('Train: {} instances, {} anomaly, {} normal' \\\n",
    "      .format(num_train, num_train_pos, num_train - num_train_pos))\n",
    "print('Test: {} instances, {} anomaly, {} normal\\n' \\\n",
    "      .format(num_test, num_test_pos, num_test - num_test_pos))\n",
    "\n",
    "#print(type(x_train))\n",
    "print('====== x_train (first five lines) ======')\n",
    "print(x_train[:5])\n",
    "\n",
    "print('====== y_train (first five lines) ======')\n",
    "print(y_train[:5])"
   ]
  },
  {
   "cell_type": "markdown",
   "metadata": {},
   "source": [
    "The **transform_train_data** function takes a collection of log sequences X_seq as input. It counts the occurrences of each event in each log sequence and stores these counts in a structured format. It then returns two things: a feature matrix X where rows represent log sequences and columns represent event counts, and a list of event names events. This transformation allows the log data to be used in machine learning models for anomaly detection.\n",
    "\n",
    "Row = block_id\n",
    "Colum = Event Type\n",
    "x_train[i][j] = nb of event #j in block_id #i "
   ]
  },
  {
   "cell_type": "markdown",
   "metadata": {},
   "source": [
    "# Feature extraction"
   ]
  },
  {
   "cell_type": "markdown",
   "metadata": {},
   "source": [
    "## Feature extraction : Message Count Matrix = Message Count Vector for each block_id"
   ]
  },
  {
   "cell_type": "code",
   "execution_count": 15,
   "metadata": {},
   "outputs": [
    {
     "name": "stdout",
     "output_type": "stream",
     "text": [
      "====== Transformed train data summary ======\n",
      "Train data shape: 402542-by-21\n",
      "\n",
      "[[ 1. 44.  9. 13. 13. 16. 22. 21. 21. 25. 10. 10. 13. 15.  3.  3. 12.  6.\n",
      "   3.  3.  1.]\n",
      " [ 1. 66. 18. 13. 13. 31. 26. 32. 32. 32. 12. 11. 23. 28.  1.  5. 21. 17.\n",
      "   9.  4.  1.]\n",
      " [ 1. 68. 12. 23. 19. 25. 32. 33. 33. 32. 12. 12. 12. 22. 12.  6. 19. 13.\n",
      "  12.  9.  1.]\n",
      " [ 1. 60. 14. 16. 15. 18. 34. 29. 29. 24. 12. 12. 18. 18. 12.  7. 16. 12.\n",
      "   6.  6.  1.]\n",
      " [ 1.  8.  3.  6.  3.  3.  7.  3.  3.  2.  2.  2.  1.  0.  0.  0.  0.  0.\n",
      "   2.  1.  1.]]\n",
      "Index(['[', ''', '0', '9', 'a', '5', '3', ',', ' ', 'd', '1', 'f', '8', '6',\n",
      "       '7', '4', 'e', '2', 'c', 'b', ']'],\n",
      "      dtype='object')\n"
     ]
    }
   ],
   "source": [
    "def transform_train_data(X_seq):\n",
    "    X_counts = []\n",
    "    for i in range(X_seq.shape[0]):\n",
    "        event_counts = Counter(X_seq[i])\n",
    "        X_counts.append(event_counts)\n",
    "    X_df = pd.DataFrame(X_counts)\n",
    "    X_df = X_df.fillna(0)\n",
    "    events = X_df.columns\n",
    "    X = X_df.values\n",
    "    return (X, events)\n",
    "\n",
    "transformed = transform_train_data(x_train)\n",
    "x_train_mcv = transformed[0]\n",
    "# The events in the training data,\n",
    "# used later to ingore the events in the test data that is unseen in the training data\n",
    "events_mcv = transformed[1]\n",
    "\n",
    "print('====== Transformed train data summary ======')\n",
    "print('Train data shape: {}-by-{}\\n'.format(x_train_mcv.shape[0], x_train_mcv.shape[1]))\n",
    "print(x_train_mcv[:5])"
   ]
  },
  {
   "cell_type": "code",
   "execution_count": 9,
   "metadata": {},
   "outputs": [
    {
     "name": "stdout",
     "output_type": "stream",
     "text": [
      "====== Transformed test data summary ======\n",
      "Test data shape: 172519-by-21\n",
      "\n",
      "[[ 1.  8.  3.  6.  3.  3.  7.  3.  3.  2.  2.  2.  1.  0.  0.  0.  0.  0.\n",
      "   2.  1.  1.]\n",
      " [ 1. 52.  9. 18. 16. 18. 27. 25. 25. 26.  9. 11. 11. 17.  6.  3. 15.  9.\n",
      "   7.  6.  1.]\n",
      " [ 1.  8.  3.  6.  3.  3.  7.  3.  3.  2.  2.  2.  1.  0.  0.  0.  0.  0.\n",
      "   2.  1.  1.]\n",
      " [ 1. 40.  6. 13. 13. 13. 23. 19. 19. 22.  7. 10. 11. 13.  0.  0. 13.  7.\n",
      "   6.  3.  1.]\n",
      " [ 1. 52.  9. 18. 16. 18. 27. 25. 25. 26.  9. 11. 11. 17.  6.  3. 15.  9.\n",
      "   7.  6.  1.]]\n"
     ]
    }
   ],
   "source": [
    "def transform_test_data(X_seq, events):\n",
    "    X_counts = []\n",
    "    for i in range(X_seq.shape[0]):\n",
    "        event_counts = Counter(X_seq[i])\n",
    "        X_counts.append(event_counts)\n",
    "    X_df = pd.DataFrame(X_counts)\n",
    "    X_df = X_df.fillna(0)\n",
    "    # treat the counts of the missing events as 0s\n",
    "    empty_events = set(events) - set(X_df.columns)\n",
    "    for event in empty_events:\n",
    "        X_df[event] = [0] * len(X_df)\n",
    "    X = X_df[events].values\n",
    "    return X\n",
    "\n",
    "x_test_mcv = transform_test_data(x_test, events_mcv)\n",
    "\n",
    "print('====== Transformed test data summary ======')\n",
    "print('Test data shape: {}-by-{}\\n'.format(x_test_mcv.shape[0], x_test_mcv.shape[1]))\n",
    "print(x_test_mcv[:5])"
   ]
  },
  {
   "cell_type": "markdown",
   "metadata": {},
   "source": [
    "## Feature extraction : TF-IDF"
   ]
  },
  {
   "cell_type": "code",
   "execution_count": 16,
   "metadata": {},
   "outputs": [
    {
     "name": "stdout",
     "output_type": "stream",
     "text": [
      "[\"['09a53393', '3d91fa85', '09a53393', '09a53393', '0567184d', '0567184d', 'd38aa58d', 'e3df2680', 'd38aa58d', 'e3df2680', '0567184d', 'd38aa58d', 'e3df2680', '5d5de21c', '5d5de21c', '5d5de21c', 'd63ef163', 'd63ef163', 'd63ef163', 'dba996ef', 'dba996ef', 'dba996ef']\"\n",
      " \"['3d91fa85', '09a53393', '09a53393', '09a53393', '5d5de21c', '5d5de21c', 'd38aa58d', 'e3df2680', 'd38aa58d', 'e3df2680', 'd38aa58d', 'e3df2680', '5d5de21c', '626085d5', '626085d5', '81cee340', '626085d5', '626085d5', '81cee340', '81cee340', '626085d5', '626085d5', '81cee340', '626085d5', '626085d5', 'd63ef163', 'd63ef163', 'd63ef163', 'dba996ef', 'dba996ef', '8f2bc724', '5d5de21c', 'dba996ef']\"\n",
      " \"['09a53393', '3d91fa85', '09a53393', '09a53393', 'd38aa58d', 'e3df2680', 'd38aa58d', 'e3df2680', 'd38aa58d', 'e3df2680', '5d5de21c', '5d5de21c', '728076ac', '09a53393', '40651754', 'd6b7b743', '73c2ec69', '5d5de21c', '5d5de21c', 'dba996ef', '728076ac', '40651754', '09a53393', '73c2ec69', 'd6b7b743', '5d5de21c', '5d5de21c', 'dba996ef', 'd63ef163', 'd63ef163', 'd63ef163', 'dba996ef', 'dba996ef', 'dba996ef']\"\n",
      " \"['3d91fa85', '09a53393', '09a53393', '09a53393', '5d5de21c', '5d5de21c', 'd38aa58d', 'e3df2680', 'd38aa58d', 'e3df2680', 'd38aa58d', 'e3df2680', '728076ac', '40651754', '09a53393', '4610d0f1', '68429f34', '5d5de21c', '81cee340', '626085d5', '81cee340', '32777b38', '32777b38', '32777b38', 'd63ef163', 'd63ef163', 'd63ef163', 'dba996ef', 'dba996ef', 'dba996ef']\"\n",
      " \"['3d91fa85', '09a53393', '09a53393', 'bcc910df']\"]\n",
      "====== Transformed test data summary -- TF-IDF ======\n",
      "Test data shape: 402542-by-48\n",
      "\n",
      "   0567184d  06d16156  09a53393  0f86472a  124068c6  13eb7010  234302e6  \\\n",
      "0  0.949942       0.0  0.117183       0.0       0.0       0.0       0.0   \n",
      "1  0.000000       0.0  0.122434       0.0       0.0       0.0       0.0   \n",
      "2  0.000000       0.0  0.196137       0.0       0.0       0.0       0.0   \n",
      "3  0.000000       0.0  0.173650       0.0       0.0       0.0       0.0   \n",
      "4  0.000000       0.0  0.303902       0.0       0.0       0.0       0.0   \n",
      "\n",
      "   2e68ccc3  2ecc047e  2f85639c  ...  d63ef163  d6b7b743  dba996ef  e024fa48  \\\n",
      "0       0.0       0.0       0.0  ...  0.142093  0.000000  0.141680       0.0   \n",
      "1       0.0       0.0       0.0  ...  0.148460  0.000000  0.148028       0.0   \n",
      "2       0.0       0.0       0.0  ...  0.142698  0.446345  0.237140       0.0   \n",
      "3       0.0       0.0       0.0  ...  0.157922  0.000000  0.157464       0.0   \n",
      "4       0.0       0.0       0.0  ...  0.000000  0.000000  0.000000       0.0   \n",
      "\n",
      "   e3df2680  f0d1ff15  f266840a  f79898ae  fcd37a6d  ff00cd08  \n",
      "0  0.118449       0.0       0.0       0.0       0.0       0.0  \n",
      "1  0.123756       0.0       0.0       0.0       0.0       0.0  \n",
      "2  0.118953       0.0       0.0       0.0       0.0       0.0  \n",
      "3  0.131644       0.0       0.0       0.0       0.0       0.0  \n",
      "4  0.000000       0.0       0.0       0.0       0.0       0.0  \n",
      "\n",
      "[5 rows x 48 columns]\n"
     ]
    }
   ],
   "source": [
    "from sklearn.feature_extraction.text import TfidfVectorizer\n",
    "\n",
    "tfidf_vectorizer = TfidfVectorizer() \n",
    "\n",
    "def transform_train_data_tfidf(X_seq):\n",
    "    tokenized_sequences = [eval(x) for x in X_seq]\n",
    "\n",
    "    # Join the tokens back into space-separated strings (required for TF-IDF)\n",
    "    document_strings = [' '.join(x) for x in tokenized_sequences]\n",
    "\n",
    "    # Initialize the TF-IDF vectorizer\n",
    "#     tfidf_vectorizer = TfidfVectorizer()\n",
    "\n",
    "    # Fit and transform the event sequences into TF-IDF vectors\n",
    "    tfidf_matrix = tfidf_vectorizer.fit_transform(document_strings)\n",
    "\n",
    "    # Convert the TF-IDF matrix to a DataFrame for further analysis if needed\n",
    "    tfidf_df = pd.DataFrame(tfidf_matrix.toarray(), columns=tfidf_vectorizer.get_feature_names_out())\n",
    "\n",
    "    return tfidf_df\n",
    "\n",
    "# Assuming x_train contains your training data\n",
    "x_train_tf_idf = transform_train_data_tfidf(x_train)\n",
    "\n",
    "print('====== Transformed test data summary -- TF-IDF ======')\n",
    "print('Test data shape: {}-by-{}\\n'.format(x_train_tf_idf.shape[0], x_train_tf_idf.shape[1]))\n",
    "print(x_train_tf_idf[:5])"
   ]
  },
  {
   "cell_type": "code",
   "execution_count": 17,
   "metadata": {},
   "outputs": [
    {
     "name": "stdout",
     "output_type": "stream",
     "text": [
      "====== Transformed test data summary -- TF-IDF ======\n",
      "Test data shape: 172519-by-48\n",
      "\n",
      "   0567184d  06d16156  09a53393  0f86472a  124068c6  13eb7010  234302e6  \\\n",
      "0       0.0       0.0  0.303902       0.0       0.0       0.0       0.0   \n",
      "1       0.0       0.0  0.270860       0.0       0.0       0.0       0.0   \n",
      "2       0.0       0.0  0.303902       0.0       0.0       0.0       0.0   \n",
      "3       0.0       0.0  0.305725       0.0       0.0       0.0       0.0   \n",
      "4       0.0       0.0  0.270860       0.0       0.0       0.0       0.0   \n",
      "\n",
      "   2e68ccc3  2ecc047e  2f85639c  ...  d63ef163  d6b7b743  dba996ef  e024fa48  \\\n",
      "0  0.000000       0.0       0.0  ...  0.000000  0.000000  0.000000       0.0   \n",
      "1  0.000000       0.0       0.0  ...  0.246328  0.385244  0.327483       0.0   \n",
      "2  0.000000       0.0       0.0  ...  0.000000  0.000000  0.000000       0.0   \n",
      "3  0.579311       0.0       0.0  ...  0.370714  0.000000  0.369638       0.0   \n",
      "4  0.000000       0.0       0.0  ...  0.246328  0.385244  0.327483       0.0   \n",
      "\n",
      "   e3df2680  f0d1ff15  f266840a  f79898ae  fcd37a6d  ff00cd08  \n",
      "0  0.000000       0.0       0.0       0.0       0.0       0.0  \n",
      "1  0.205339       0.0       0.0       0.0       0.0       0.0  \n",
      "2  0.000000       0.0       0.0       0.0       0.0       0.0  \n",
      "3  0.309027       0.0       0.0       0.0       0.0       0.0  \n",
      "4  0.205339       0.0       0.0       0.0       0.0       0.0  \n",
      "\n",
      "[5 rows x 48 columns]\n"
     ]
    }
   ],
   "source": [
    "def transform_test_data_tfidf(X_seq, tfidf_vectorizer):\n",
    "    tokenized_sequences = [eval(x) for x in X_seq]\n",
    "\n",
    "    # Join the tokens back into space-separated strings (required for TF-IDF)\n",
    "    document_strings = [' '.join(x) for x in tokenized_sequences]\n",
    "\n",
    "    # Transform the test data using the same TF-IDF vectorizer as used for training\n",
    "    tfidf_matrix = tfidf_vectorizer.transform(document_strings)\n",
    "\n",
    "    # Convert the TF-IDF matrix to a DataFrame for further analysis if needed\n",
    "    tfidf_df = pd.DataFrame(tfidf_matrix.toarray(), columns=tfidf_vectorizer.get_feature_names_out())\n",
    "\n",
    "    return tfidf_df\n",
    "\n",
    "# Assuming x_test contains your test data\n",
    "x_test_tf_idf = transform_test_data_tfidf(x_test, tfidf_vectorizer)\n",
    "\n",
    "print('====== Transformed test data summary -- TF-IDF ======')\n",
    "print('Test data shape: {}-by-{}\\n'.format(x_test_tf_idf.shape[0], x_test_tf_idf.shape[1]))\n",
    "print(x_test_tf_idf[:5])"
   ]
  },
  {
   "cell_type": "markdown",
   "metadata": {},
   "source": [
    "# Classique Machine learning"
   ]
  },
  {
   "cell_type": "markdown",
   "metadata": {},
   "source": [
    "## Constructing a logistic regression model"
   ]
  },
  {
   "cell_type": "code",
   "execution_count": 20,
   "metadata": {
    "scrolled": true
   },
   "outputs": [
    {
     "name": "stderr",
     "output_type": "stream",
     "text": [
      "/home/swendart/anaconda3/lib/python3.9/site-packages/sklearn/linear_model/_logistic.py:814: ConvergenceWarning: lbfgs failed to converge (status=1):\n",
      "STOP: TOTAL NO. of ITERATIONS REACHED LIMIT.\n",
      "\n",
      "Increase the number of iterations (max_iter) or scale the data as shown in:\n",
      "    https://scikit-learn.org/stable/modules/preprocessing.html\n",
      "Please also refer to the documentation for alternative solver options:\n",
      "    https://scikit-learn.org/stable/modules/linear_model.html#logistic-regression\n",
      "  n_iter_i = _check_optimize_result(\n"
     ]
    },
    {
     "data": {
      "text/plain": [
       "LogisticRegression(C=100, max_iter=1000, tol=0.01)"
      ]
     },
     "execution_count": 20,
     "metadata": {},
     "output_type": "execute_result"
    }
   ],
   "source": [
    "lr_classifier = LogisticRegression(penalty='l2', C=100, tol=0.01, class_weight=None, max_iter=1000)\n",
    "\n",
    "lr_classifier.fit(x_train_mcv, y_train)"
   ]
  },
  {
   "cell_type": "markdown",
   "metadata": {},
   "source": [
    "## Evaluate the performance of the logistic regression model\n",
    "\n",
    "We evaluate the model's performance on the testing set."
   ]
  },
  {
   "cell_type": "code",
   "execution_count": null,
   "metadata": {},
   "outputs": [],
   "source": [
    "## Precision, recall, f1-score, and precission-recall cu"
   ]
  }
 ],
 "metadata": {
  "kernelspec": {
   "display_name": "Python 3 (ipykernel)",
   "language": "python",
   "name": "python3"
  },
  "language_info": {
   "codemirror_mode": {
    "name": "ipython",
    "version": 3
   },
   "file_extension": ".py",
   "mimetype": "text/x-python",
   "name": "python",
   "nbconvert_exporter": "python",
   "pygments_lexer": "ipython3",
   "version": "3.9.13"
  }
 },
 "nbformat": 4,
 "nbformat_minor": 2
}
