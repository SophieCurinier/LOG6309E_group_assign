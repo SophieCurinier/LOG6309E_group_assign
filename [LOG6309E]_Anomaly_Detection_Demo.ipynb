{
 "cells": [
  {
   "cell_type": "markdown",
   "metadata": {
    "id": "gz_L3k6qLMqk"
   },
   "source": [
    "<h1>Analyzing System Logs for Anomaly Detection</h1>\n",
    "\n",
    "This demo shows an example of using system logs for anomaly detection. Both **supervised learning** (e.g., logistic regression, decision tree, SVM) and **unsupervised learning** (clustering, PCA, invariants mining) methods have been used for the task of anomaly detection. In this example, we use supervised learning, specifically, a **logistic regression model** and a **decision tree model**, to indentify anomalies in system logs.\n",
    "\n",
    "Log-based anomaly detection typically include four steps: **log collection**, **log parsing**, **feature extraction**, and **anomaly detection**. In this demo, we focus on the **feature extraction** and **anomaly detection** steps.\n",
    "\n",
    "**Acknowledgement**:\n",
    "\n",
    "Shilin He, Jieming Zhu, Pinjia He, Michael R. Lyu. Experience Report: System Log Analysis for Anomaly Detection, IEEE International Symposium on Software Reliability Engineering (ISSRE), 2016"
   ]
  },
  {
   "cell_type": "markdown",
   "metadata": {
    "id": "RDTxHT3dPFri"
   },
   "source": [
    "## Import needed libraries and dependencies"
   ]
  },
  {
   "cell_type": "markdown",
   "metadata": {
    "id": "Qm2SMuhBP0rq"
   },
   "source": [
    "Import the needed libraries. We use the **logistic regression model** and the **decision tree model** provided by the **sklearn** library. We use the **numpy** and **pandas** libraries to deal with basic data structures (e.g., arrays and dataframes) used in our analysis."
   ]
  },
  {
   "cell_type": "code",
   "execution_count": 1,
   "metadata": {
    "id": "Lhw6PlH8KW3Y"
   },
   "outputs": [],
   "source": [
    "from sklearn.linear_model import LogisticRegression\n",
    "from sklearn.tree import DecisionTreeClassifier\n",
    "from sklearn.metrics import precision_recall_fscore_support\n",
    "from sklearn.metrics import precision_recall_curve\n",
    "from sklearn.metrics import roc_auc_score\n",
    "from sklearn.metrics import roc_curve\n",
    "import matplotlib.pyplot as plt\n",
    "import pandas as pd\n",
    "import numpy as np\n",
    "import re\n",
    "from sklearn.utils import shuffle\n",
    "from collections import OrderedDict\n",
    "from collections import Counter\n"
   ]
  },
  {
   "cell_type": "markdown",
   "metadata": {
    "id": "5qGZ40i_vgEg"
   },
   "source": [
    "## Parse unstructured log data into structured data\n"
   ]
  },
  {
   "cell_type": "markdown",
   "metadata": {
    "id": "xeoHxPdrvpOn"
   },
   "source": [
    "Local demonstration of using Drain to parse HDFS log (1M log lines)\n",
    "\n",
    "Reference: Logparser: https://github.com/logpai/logparser"
   ]
  },
  {
   "cell_type": "markdown",
   "metadata": {
    "id": "3op2BQnKQhka"
   },
   "source": [
    "## Read the parsed (strutured) log data"
   ]
  },
  {
   "cell_type": "markdown",
   "metadata": {
    "id": "0hA8we-qrVUK"
   },
   "source": [
    "### Read the data from a GitHub repo\n",
    "We read the log data from a GitHub repository (https://github.com/henglicad/AIOps-tutorial-data/). There are three files in the repo: the file *HDFS_100k.log_structured.csv* contains the structured (i.e., parsed) log data with 100K log lines; the file *HDFS_1M.log_structured.csv* contains the structured log data with 1M log lines; the file *HDFS.anomaly_label.csv* contains the labels (normal/anomaly).\n",
    "We read the csv files into **Pandas** dataframes.\n",
    "\n"
   ]
  },
  {
   "cell_type": "code",
   "execution_count": 2,
   "metadata": {
    "colab": {
     "base_uri": "https://localhost:8080/"
    },
    "id": "Lrh1jnJG0GQ1",
    "outputId": "1f31ac7c-7de1-4f5a-95d4-40f04b901729"
   },
   "outputs": [
    {
     "name": "stdout",
     "output_type": "stream",
     "text": [
      "--2023-09-23 14:35:35--  https://raw.githubusercontent.com/henglicad/AIOps-tutorial-data/master/HDFS_100k.log_structured.csv.zip\n",
      "Resolving raw.githubusercontent.com (raw.githubusercontent.com)... 185.199.109.133, 185.199.108.133, 185.199.110.133, ...\n",
      "Connecting to raw.githubusercontent.com (raw.githubusercontent.com)|185.199.109.133|:443... connected.\n",
      "HTTP request sent, awaiting response... 200 OK\n",
      "Length: 1730983 (1.7M) [application/zip]\n",
      "Saving to: ‘HDFS_100k.log_structured.csv.zip’\n",
      "\n",
      "HDFS_100k.log_struc 100%[===================>]   1.65M  4.21MB/s    in 0.4s    \n",
      "\n",
      "2023-09-23 14:35:36 (4.21 MB/s) - ‘HDFS_100k.log_structured.csv.zip’ saved [1730983/1730983]\n",
      "\n",
      "--2023-09-23 14:35:36--  https://raw.githubusercontent.com/henglicad/AIOps-tutorial-data/master/HDFS_1M.log_structured.csv.zip\n",
      "Resolving raw.githubusercontent.com (raw.githubusercontent.com)... 185.199.109.133, 185.199.108.133, 185.199.110.133, ...\n",
      "Connecting to raw.githubusercontent.com (raw.githubusercontent.com)|185.199.109.133|:443... connected.\n",
      "HTTP request sent, awaiting response... 200 OK\n",
      "Length: 25140509 (24M) [application/zip]\n",
      "Saving to: ‘HDFS_1M.log_structured.csv.zip’\n",
      "\n",
      "HDFS_1M.log_structu 100%[===================>]  23.98M  4.48MB/s    in 5.4s    \n",
      "\n",
      "2023-09-23 14:35:42 (4.48 MB/s) - ‘HDFS_1M.log_structured.csv.zip’ saved [25140509/25140509]\n",
      "\n",
      "--2023-09-23 14:35:42--  https://raw.githubusercontent.com/henglicad/AIOps-tutorial-data/master/HDFS.anomaly_label.csv.zip\n",
      "Resolving raw.githubusercontent.com (raw.githubusercontent.com)... 185.199.109.133, 185.199.108.133, 185.199.110.133, ...\n",
      "Connecting to raw.githubusercontent.com (raw.githubusercontent.com)|185.199.109.133|:443... connected.\n",
      "HTTP request sent, awaiting response... 200 OK\n",
      "Length: 6199871 (5.9M) [application/zip]\n",
      "Saving to: ‘HDFS.anomaly_label.csv.zip’\n",
      "\n",
      "HDFS.anomaly_label. 100%[===================>]   5.91M  4.53MB/s    in 1.3s    \n",
      "\n",
      "2023-09-23 14:35:44 (4.53 MB/s) - ‘HDFS.anomaly_label.csv.zip’ saved [6199871/6199871]\n",
      "\n"
     ]
    }
   ],
   "source": [
    "# Read zipped data files and store them in Colab\n",
    "struct_log_file_100k_zipped = 'https://raw.githubusercontent.com/henglicad/AIOps-tutorial-data/master/HDFS_100k.log_structured.csv.zip'\n",
    "struct_log_file_1m_zipped = 'https://raw.githubusercontent.com/henglicad/AIOps-tutorial-data/master/HDFS_1M.log_structured.csv.zip'\n",
    "label_file_zipped = 'https://raw.githubusercontent.com/henglicad/AIOps-tutorial-data/master/HDFS.anomaly_label.csv.zip'\n",
    "!wget $struct_log_file_100k_zipped\n",
    "!wget $struct_log_file_1m_zipped\n",
    "!wget $label_file_zipped"
   ]
  },
  {
   "cell_type": "code",
   "execution_count": 3,
   "metadata": {
    "colab": {
     "background_save": true,
     "base_uri": "https://localhost:8080/"
    },
    "id": "dcCdwvHn1-R-",
    "outputId": "8752615f-44cd-4cd0-9806-0b02b7f44711"
   },
   "outputs": [
    {
     "name": "stdout",
     "output_type": "stream",
     "text": [
      "Archive:  HDFS_100k.log_structured.csv.zip\n",
      "  inflating: HDFS_100k.log_structured.csv  \n",
      "Archive:  HDFS_1M.log_structured.csv.zip\n",
      "  inflating: HDFS_1M.log_structured.csv  \n",
      "Archive:  HDFS.anomaly_label.csv.zip\n",
      "  inflating: HDFS.anomaly_label.csv  \n"
     ]
    }
   ],
   "source": [
    "# Decompress zipped files\n",
    "!unzip HDFS_100k.log_structured.csv.zip\n",
    "!unzip HDFS_1M.log_structured.csv.zip\n",
    "!unzip HDFS.anomaly_label.csv.zip"
   ]
  },
  {
   "cell_type": "code",
   "execution_count": 4,
   "metadata": {
    "id": "HtwJPQDr3mdk"
   },
   "outputs": [
    {
     "name": "stdout",
     "output_type": "stream",
     "text": [
      " HDFS.anomaly_label.csv.zip\r\n",
      " HDFS_1M.log_structured.csv.zip\r\n",
      " HDFS_100k.log_structured.csv.zip\r\n",
      "'[LOG6309E]_Anomaly_Detection_Demo.ipynb'\r\n",
      " Group.ipynb\r\n",
      " Dataset\r\n",
      " Wu2023LogRepresentation.pdf\r\n",
      "'[LOG6309E][f2023]Week4. Log-based Anomaly Detection.pdf'\r\n",
      " Assignment_Fall2023.pdf\r\n",
      " HDFS_100k.log_structured.csv\r\n",
      " HDFS.anomaly_label.csv\r\n",
      " HDFS_1M.log_structured.csv\r\n"
     ]
    }
   ],
   "source": [
    "# Check the list of files\n",
    "!ls -t"
   ]
  },
  {
   "cell_type": "code",
   "execution_count": 5,
   "metadata": {
    "id": "xuCRGVBkpBf9"
   },
   "outputs": [],
   "source": [
    "# Use remote files (unavailable)\n",
    "# struct_log_file_100k = 'https://media.githubusercontent.com/media/henglicad/AIOps-tutorial-data/master/HDFS_100k.log_structured.csv'\n",
    "# struct_log_file_1m = 'https://media.githubusercontent.com/media/henglicad/AIOps-tutorial-data/master/HDFS_1M.log_structured.csv'\n",
    "# label_file = 'https://media.githubusercontent.com/media/henglicad/AIOps-tutorial-data/master/HDFS.anomaly_label.csv'\n",
    "\n",
    "# Use files in Colab\n",
    "struct_log_file_100k = 'HDFS_100k.log_structured.csv'\n",
    "struct_log_file_1m = 'HDFS_1M.log_structured.csv'\n",
    "label_file = 'HDFS.anomaly_label.csv'"
   ]
  },
  {
   "cell_type": "code",
   "execution_count": 6,
   "metadata": {
    "id": "EjY7OPIAdvV8"
   },
   "outputs": [],
   "source": [
    "# read the csv files into Pandas dataframes\n",
    "struct_log_file = struct_log_file_1m\n",
    "struct_log = pd.read_csv(struct_log_file, engine='c', na_filter=False, memory_map=True)\n",
    "label_data = pd.read_csv(label_file, engine='c', na_filter=False, memory_map=True)"
   ]
  },
  {
   "cell_type": "markdown",
   "metadata": {
    "id": "7tO1jVkqrdsK"
   },
   "source": [
    "### Exploring the data\n",
    "It is always a good practice to explore the data before doing any analysis."
   ]
  },
  {
   "cell_type": "code",
   "execution_count": 7,
   "metadata": {
    "id": "aPdn6cAzrF-J"
   },
   "outputs": [
    {
     "name": "stdout",
     "output_type": "stream",
     "text": [
      "<class 'pandas.core.frame.DataFrame'>\n",
      "(1000116, 10)\n"
     ]
    },
    {
     "data": {
      "text/html": [
       "<div>\n",
       "<style scoped>\n",
       "    .dataframe tbody tr th:only-of-type {\n",
       "        vertical-align: middle;\n",
       "    }\n",
       "\n",
       "    .dataframe tbody tr th {\n",
       "        vertical-align: top;\n",
       "    }\n",
       "\n",
       "    .dataframe thead th {\n",
       "        text-align: right;\n",
       "    }\n",
       "</style>\n",
       "<table border=\"1\" class=\"dataframe\">\n",
       "  <thead>\n",
       "    <tr style=\"text-align: right;\">\n",
       "      <th></th>\n",
       "      <th>LineId</th>\n",
       "      <th>Date</th>\n",
       "      <th>Time</th>\n",
       "      <th>Pid</th>\n",
       "      <th>Level</th>\n",
       "      <th>Component</th>\n",
       "      <th>Content</th>\n",
       "      <th>EventId</th>\n",
       "      <th>EventTemplate</th>\n",
       "      <th>ParameterList</th>\n",
       "    </tr>\n",
       "  </thead>\n",
       "  <tbody>\n",
       "    <tr>\n",
       "      <th>0</th>\n",
       "      <td>1</td>\n",
       "      <td>81109</td>\n",
       "      <td>203518</td>\n",
       "      <td>143</td>\n",
       "      <td>INFO</td>\n",
       "      <td>dfs.DataNode$DataXceiver</td>\n",
       "      <td>Receiving block blk_-1608999687919862906 src: ...</td>\n",
       "      <td>09a53393</td>\n",
       "      <td>Receiving block &lt;*&gt; src: &lt;*&gt; dest: &lt;*&gt;</td>\n",
       "      <td>['blk_-1608999687919862906', '/10.250.19.102:5...</td>\n",
       "    </tr>\n",
       "    <tr>\n",
       "      <th>1</th>\n",
       "      <td>2</td>\n",
       "      <td>81109</td>\n",
       "      <td>203518</td>\n",
       "      <td>35</td>\n",
       "      <td>INFO</td>\n",
       "      <td>dfs.FSNamesystem</td>\n",
       "      <td>BLOCK* NameSystem.allocateBlock: /mnt/hadoop/m...</td>\n",
       "      <td>3d91fa85</td>\n",
       "      <td>BLOCK* NameSystem.allocateBlock: &lt;*&gt; &lt;*&gt;</td>\n",
       "      <td>['/mnt/hadoop/mapred/system/job_200811092030_0...</td>\n",
       "    </tr>\n",
       "    <tr>\n",
       "      <th>2</th>\n",
       "      <td>3</td>\n",
       "      <td>81109</td>\n",
       "      <td>203519</td>\n",
       "      <td>143</td>\n",
       "      <td>INFO</td>\n",
       "      <td>dfs.DataNode$DataXceiver</td>\n",
       "      <td>Receiving block blk_-1608999687919862906 src: ...</td>\n",
       "      <td>09a53393</td>\n",
       "      <td>Receiving block &lt;*&gt; src: &lt;*&gt; dest: &lt;*&gt;</td>\n",
       "      <td>['blk_-1608999687919862906', '/10.250.10.6:405...</td>\n",
       "    </tr>\n",
       "    <tr>\n",
       "      <th>3</th>\n",
       "      <td>4</td>\n",
       "      <td>81109</td>\n",
       "      <td>203519</td>\n",
       "      <td>145</td>\n",
       "      <td>INFO</td>\n",
       "      <td>dfs.DataNode$DataXceiver</td>\n",
       "      <td>Receiving block blk_-1608999687919862906 src: ...</td>\n",
       "      <td>09a53393</td>\n",
       "      <td>Receiving block &lt;*&gt; src: &lt;*&gt; dest: &lt;*&gt;</td>\n",
       "      <td>['blk_-1608999687919862906', '/10.250.14.224:4...</td>\n",
       "    </tr>\n",
       "    <tr>\n",
       "      <th>4</th>\n",
       "      <td>5</td>\n",
       "      <td>81109</td>\n",
       "      <td>203519</td>\n",
       "      <td>145</td>\n",
       "      <td>INFO</td>\n",
       "      <td>dfs.DataNode$PacketResponder</td>\n",
       "      <td>PacketResponder 1 for block blk_-1608999687919...</td>\n",
       "      <td>d38aa58d</td>\n",
       "      <td>PacketResponder &lt;*&gt; for block &lt;*&gt; &lt;*&gt;</td>\n",
       "      <td>['1', 'blk_-1608999687919862906 terminating']</td>\n",
       "    </tr>\n",
       "  </tbody>\n",
       "</table>\n",
       "</div>"
      ],
      "text/plain": [
       "   LineId   Date    Time  Pid Level                     Component  \\\n",
       "0       1  81109  203518  143  INFO      dfs.DataNode$DataXceiver   \n",
       "1       2  81109  203518   35  INFO              dfs.FSNamesystem   \n",
       "2       3  81109  203519  143  INFO      dfs.DataNode$DataXceiver   \n",
       "3       4  81109  203519  145  INFO      dfs.DataNode$DataXceiver   \n",
       "4       5  81109  203519  145  INFO  dfs.DataNode$PacketResponder   \n",
       "\n",
       "                                             Content   EventId  \\\n",
       "0  Receiving block blk_-1608999687919862906 src: ...  09a53393   \n",
       "1  BLOCK* NameSystem.allocateBlock: /mnt/hadoop/m...  3d91fa85   \n",
       "2  Receiving block blk_-1608999687919862906 src: ...  09a53393   \n",
       "3  Receiving block blk_-1608999687919862906 src: ...  09a53393   \n",
       "4  PacketResponder 1 for block blk_-1608999687919...  d38aa58d   \n",
       "\n",
       "                              EventTemplate  \\\n",
       "0    Receiving block <*> src: <*> dest: <*>   \n",
       "1  BLOCK* NameSystem.allocateBlock: <*> <*>   \n",
       "2    Receiving block <*> src: <*> dest: <*>   \n",
       "3    Receiving block <*> src: <*> dest: <*>   \n",
       "4     PacketResponder <*> for block <*> <*>   \n",
       "\n",
       "                                       ParameterList  \n",
       "0  ['blk_-1608999687919862906', '/10.250.19.102:5...  \n",
       "1  ['/mnt/hadoop/mapred/system/job_200811092030_0...  \n",
       "2  ['blk_-1608999687919862906', '/10.250.10.6:405...  \n",
       "3  ['blk_-1608999687919862906', '/10.250.14.224:4...  \n",
       "4      ['1', 'blk_-1608999687919862906 terminating']  "
      ]
     },
     "execution_count": 7,
     "metadata": {},
     "output_type": "execute_result"
    }
   ],
   "source": [
    "print(type(struct_log))\n",
    "print(struct_log.shape)\n",
    "struct_log.head(5)"
   ]
  },
  {
   "cell_type": "code",
   "execution_count": 8,
   "metadata": {
    "id": "vLj264OWrHkp"
   },
   "outputs": [
    {
     "name": "stdout",
     "output_type": "stream",
     "text": [
      "<class 'pandas.core.frame.DataFrame'>\n",
      "(575061, 2)\n"
     ]
    },
    {
     "data": {
      "text/html": [
       "<div>\n",
       "<style scoped>\n",
       "    .dataframe tbody tr th:only-of-type {\n",
       "        vertical-align: middle;\n",
       "    }\n",
       "\n",
       "    .dataframe tbody tr th {\n",
       "        vertical-align: top;\n",
       "    }\n",
       "\n",
       "    .dataframe thead th {\n",
       "        text-align: right;\n",
       "    }\n",
       "</style>\n",
       "<table border=\"1\" class=\"dataframe\">\n",
       "  <thead>\n",
       "    <tr style=\"text-align: right;\">\n",
       "      <th></th>\n",
       "      <th>BlockId</th>\n",
       "      <th>Label</th>\n",
       "    </tr>\n",
       "  </thead>\n",
       "  <tbody>\n",
       "    <tr>\n",
       "      <th>0</th>\n",
       "      <td>blk_-1608999687919862906</td>\n",
       "      <td>Normal</td>\n",
       "    </tr>\n",
       "    <tr>\n",
       "      <th>1</th>\n",
       "      <td>blk_7503483334202473044</td>\n",
       "      <td>Normal</td>\n",
       "    </tr>\n",
       "    <tr>\n",
       "      <th>2</th>\n",
       "      <td>blk_-3544583377289625738</td>\n",
       "      <td>Anomaly</td>\n",
       "    </tr>\n",
       "    <tr>\n",
       "      <th>3</th>\n",
       "      <td>blk_-9073992586687739851</td>\n",
       "      <td>Normal</td>\n",
       "    </tr>\n",
       "    <tr>\n",
       "      <th>4</th>\n",
       "      <td>blk_7854771516489510256</td>\n",
       "      <td>Normal</td>\n",
       "    </tr>\n",
       "  </tbody>\n",
       "</table>\n",
       "</div>"
      ],
      "text/plain": [
       "                    BlockId    Label\n",
       "0  blk_-1608999687919862906   Normal\n",
       "1   blk_7503483334202473044   Normal\n",
       "2  blk_-3544583377289625738  Anomaly\n",
       "3  blk_-9073992586687739851   Normal\n",
       "4   blk_7854771516489510256   Normal"
      ]
     },
     "execution_count": 8,
     "metadata": {},
     "output_type": "execute_result"
    }
   ],
   "source": [
    "print(type(label_data))\n",
    "print(label_data.shape)\n",
    "label_data.head(5)"
   ]
  },
  {
   "cell_type": "code",
   "execution_count": 9,
   "metadata": {
    "id": "LNb41IFcoH7s"
   },
   "outputs": [
    {
     "data": {
      "text/plain": [
       "count      1000116\n",
       "unique          36\n",
       "top       09a53393\n",
       "freq        196898\n",
       "Name: EventId, dtype: object"
      ]
     },
     "execution_count": 9,
     "metadata": {},
     "output_type": "execute_result"
    }
   ],
   "source": [
    "struct_log.EventId.describe()\n",
    "#struct_log.EventId.nunique()\n",
    "#struct_log.EventId.value_counts()"
   ]
  },
  {
   "cell_type": "markdown",
   "metadata": {
    "id": "SKOlNaWRlxhB"
   },
   "source": [
    "## Preprocessing the data\n",
    "This step extracts the event sequence for each block ID, and merges the event sequences with the labels (normal/anomaly) with the event sequences."
   ]
  },
  {
   "cell_type": "markdown",
   "metadata": {
    "id": "RsCQdDLgqvm-"
   },
   "source": [
    "### Extracting the event sequence for each block ID\n",
    "Using a regular expression to find the block IDs in each log line, then producing a list of event (i.e., a event sequence) for each block ID."
   ]
  },
  {
   "cell_type": "code",
   "execution_count": 10,
   "metadata": {
    "id": "OeXT2oeal1Rx"
   },
   "outputs": [
    {
     "name": "stdout",
     "output_type": "stream",
     "text": [
      "<class 'pandas.core.frame.DataFrame'>\n",
      "(66170, 2)\n"
     ]
    },
    {
     "data": {
      "text/html": [
       "<div>\n",
       "<style scoped>\n",
       "    .dataframe tbody tr th:only-of-type {\n",
       "        vertical-align: middle;\n",
       "    }\n",
       "\n",
       "    .dataframe tbody tr th {\n",
       "        vertical-align: top;\n",
       "    }\n",
       "\n",
       "    .dataframe thead th {\n",
       "        text-align: right;\n",
       "    }\n",
       "</style>\n",
       "<table border=\"1\" class=\"dataframe\">\n",
       "  <thead>\n",
       "    <tr style=\"text-align: right;\">\n",
       "      <th></th>\n",
       "      <th>BlockId</th>\n",
       "      <th>EventSequence</th>\n",
       "    </tr>\n",
       "  </thead>\n",
       "  <tbody>\n",
       "    <tr>\n",
       "      <th>0</th>\n",
       "      <td>blk_-1608999687919862906</td>\n",
       "      <td>[09a53393, 3d91fa85, 09a53393, 09a53393, d38aa...</td>\n",
       "    </tr>\n",
       "    <tr>\n",
       "      <th>1</th>\n",
       "      <td>blk_7503483334202473044</td>\n",
       "      <td>[09a53393, 09a53393, 3d91fa85, 09a53393, d38aa...</td>\n",
       "    </tr>\n",
       "    <tr>\n",
       "      <th>2</th>\n",
       "      <td>blk_-3544583377289625738</td>\n",
       "      <td>[09a53393, 3d91fa85, 09a53393, 09a53393, d38aa...</td>\n",
       "    </tr>\n",
       "    <tr>\n",
       "      <th>3</th>\n",
       "      <td>blk_-9073992586687739851</td>\n",
       "      <td>[09a53393, 3d91fa85, 09a53393, 09a53393, d38aa...</td>\n",
       "    </tr>\n",
       "    <tr>\n",
       "      <th>4</th>\n",
       "      <td>blk_7854771516489510256</td>\n",
       "      <td>[09a53393, 09a53393, 3d91fa85, 09a53393, d38aa...</td>\n",
       "    </tr>\n",
       "  </tbody>\n",
       "</table>\n",
       "</div>"
      ],
      "text/plain": [
       "                    BlockId                                      EventSequence\n",
       "0  blk_-1608999687919862906  [09a53393, 3d91fa85, 09a53393, 09a53393, d38aa...\n",
       "1   blk_7503483334202473044  [09a53393, 09a53393, 3d91fa85, 09a53393, d38aa...\n",
       "2  blk_-3544583377289625738  [09a53393, 3d91fa85, 09a53393, 09a53393, d38aa...\n",
       "3  blk_-9073992586687739851  [09a53393, 3d91fa85, 09a53393, 09a53393, d38aa...\n",
       "4   blk_7854771516489510256  [09a53393, 09a53393, 3d91fa85, 09a53393, d38aa..."
      ]
     },
     "execution_count": 10,
     "metadata": {},
     "output_type": "execute_result"
    }
   ],
   "source": [
    "data_dict = OrderedDict()\n",
    "for idx, row in struct_log.iterrows():\n",
    "    blkId_list = re.findall(r'(blk_-?\\d+)', row['Content'])\n",
    "    blkId_set = set(blkId_list)\n",
    "    for blk_Id in blkId_set:\n",
    "        if not blk_Id in data_dict:\n",
    "            data_dict[blk_Id] = []\n",
    "        data_dict[blk_Id].append(row['EventId'])\n",
    "data_df = pd.DataFrame(list(data_dict.items()), columns=['BlockId', 'EventSequence'])\n",
    "\n",
    "print(type(data_df))\n",
    "print(data_df.shape)\n",
    "data_df.head(5)"
   ]
  },
  {
   "cell_type": "markdown",
   "metadata": {
    "id": "YPjYRkyOu7hJ"
   },
   "source": [
    "### Merging the label with the event sequence data\n",
    "Merging the event sequence data with the label data by matching the block IDs."
   ]
  },
  {
   "cell_type": "code",
   "execution_count": 11,
   "metadata": {
    "id": "Yku8T2XxtP2q"
   },
   "outputs": [
    {
     "data": {
      "text/html": [
       "<div>\n",
       "<style scoped>\n",
       "    .dataframe tbody tr th:only-of-type {\n",
       "        vertical-align: middle;\n",
       "    }\n",
       "\n",
       "    .dataframe tbody tr th {\n",
       "        vertical-align: top;\n",
       "    }\n",
       "\n",
       "    .dataframe thead th {\n",
       "        text-align: right;\n",
       "    }\n",
       "</style>\n",
       "<table border=\"1\" class=\"dataframe\">\n",
       "  <thead>\n",
       "    <tr style=\"text-align: right;\">\n",
       "      <th></th>\n",
       "      <th>BlockId</th>\n",
       "      <th>EventSequence</th>\n",
       "      <th>Label</th>\n",
       "    </tr>\n",
       "  </thead>\n",
       "  <tbody>\n",
       "    <tr>\n",
       "      <th>0</th>\n",
       "      <td>blk_-1608999687919862906</td>\n",
       "      <td>[09a53393, 3d91fa85, 09a53393, 09a53393, d38aa...</td>\n",
       "      <td>0</td>\n",
       "    </tr>\n",
       "    <tr>\n",
       "      <th>1</th>\n",
       "      <td>blk_7503483334202473044</td>\n",
       "      <td>[09a53393, 09a53393, 3d91fa85, 09a53393, d38aa...</td>\n",
       "      <td>0</td>\n",
       "    </tr>\n",
       "    <tr>\n",
       "      <th>2</th>\n",
       "      <td>blk_-3544583377289625738</td>\n",
       "      <td>[09a53393, 3d91fa85, 09a53393, 09a53393, d38aa...</td>\n",
       "      <td>1</td>\n",
       "    </tr>\n",
       "    <tr>\n",
       "      <th>3</th>\n",
       "      <td>blk_-9073992586687739851</td>\n",
       "      <td>[09a53393, 3d91fa85, 09a53393, 09a53393, d38aa...</td>\n",
       "      <td>0</td>\n",
       "    </tr>\n",
       "    <tr>\n",
       "      <th>4</th>\n",
       "      <td>blk_7854771516489510256</td>\n",
       "      <td>[09a53393, 09a53393, 3d91fa85, 09a53393, d38aa...</td>\n",
       "      <td>0</td>\n",
       "    </tr>\n",
       "  </tbody>\n",
       "</table>\n",
       "</div>"
      ],
      "text/plain": [
       "                    BlockId  \\\n",
       "0  blk_-1608999687919862906   \n",
       "1   blk_7503483334202473044   \n",
       "2  blk_-3544583377289625738   \n",
       "3  blk_-9073992586687739851   \n",
       "4   blk_7854771516489510256   \n",
       "\n",
       "                                       EventSequence  Label  \n",
       "0  [09a53393, 3d91fa85, 09a53393, 09a53393, d38aa...      0  \n",
       "1  [09a53393, 09a53393, 3d91fa85, 09a53393, d38aa...      0  \n",
       "2  [09a53393, 3d91fa85, 09a53393, 09a53393, d38aa...      1  \n",
       "3  [09a53393, 3d91fa85, 09a53393, 09a53393, d38aa...      0  \n",
       "4  [09a53393, 09a53393, 3d91fa85, 09a53393, d38aa...      0  "
      ]
     },
     "execution_count": 11,
     "metadata": {},
     "output_type": "execute_result"
    }
   ],
   "source": [
    "label_data_indexed = label_data.set_index('BlockId')\n",
    "label_dict = label_data_indexed['Label'].to_dict()\n",
    "data_df['Label'] = data_df['BlockId'].apply(lambda x: 1 if label_dict[x] == 'Anomaly' else 0)\n",
    "\n",
    "data_df.head(5)"
   ]
  },
  {
   "cell_type": "markdown",
   "metadata": {
    "id": "1r0ZqG-YwzVb"
   },
   "source": [
    "### Spliting the data into training and testing subsets\n",
    "We split the data into 70% training data and 30% testing data."
   ]
  },
  {
   "cell_type": "markdown",
   "metadata": {
    "id": "cNTSbzXqzjXR"
   },
   "source": [
    "A utility function that split the data into training and testing data by a specified ratio."
   ]
  },
  {
   "cell_type": "code",
   "execution_count": 12,
   "metadata": {
    "id": "hJFF0Na3xDWc"
   },
   "outputs": [],
   "source": [
    "def _split_data(x_data, y_data, train_ratio=0.5):\n",
    "    pos_idx = y_data > 0\n",
    "    x_pos = x_data[pos_idx]\n",
    "    y_pos = y_data[pos_idx]\n",
    "    x_neg = x_data[~pos_idx]\n",
    "    y_neg = y_data[~pos_idx]\n",
    "    train_pos = int(train_ratio * x_pos.shape[0])\n",
    "    train_neg = int(train_ratio * x_neg.shape[0])\n",
    "    x_train = np.hstack([x_pos[0:train_pos], x_neg[0:train_neg]])\n",
    "    y_train = np.hstack([y_pos[0:train_pos], y_neg[0:train_neg]])\n",
    "    x_test = np.hstack([x_pos[train_pos:], x_neg[train_neg:]])\n",
    "    y_test = np.hstack([y_pos[train_pos:], y_neg[train_neg:]])\n",
    "\n",
    "    return (x_train, y_train), (x_test, y_test)"
   ]
  },
  {
   "cell_type": "markdown",
   "metadata": {
    "id": "CdJRSo36ztwp"
   },
   "source": [
    "Shuffle and split the data into 70% training and 30% testing data."
   ]
  },
  {
   "cell_type": "code",
   "execution_count": 13,
   "metadata": {
    "id": "bEQSiD84xmTF"
   },
   "outputs": [
    {
     "data": {
      "text/html": [
       "<div>\n",
       "<style scoped>\n",
       "    .dataframe tbody tr th:only-of-type {\n",
       "        vertical-align: middle;\n",
       "    }\n",
       "\n",
       "    .dataframe tbody tr th {\n",
       "        vertical-align: top;\n",
       "    }\n",
       "\n",
       "    .dataframe thead th {\n",
       "        text-align: right;\n",
       "    }\n",
       "</style>\n",
       "<table border=\"1\" class=\"dataframe\">\n",
       "  <thead>\n",
       "    <tr style=\"text-align: right;\">\n",
       "      <th></th>\n",
       "      <th>BlockId</th>\n",
       "      <th>EventSequence</th>\n",
       "      <th>Label</th>\n",
       "    </tr>\n",
       "  </thead>\n",
       "  <tbody>\n",
       "    <tr>\n",
       "      <th>0</th>\n",
       "      <td>blk_-6133013639818149887</td>\n",
       "      <td>[3d91fa85, 09a53393, 09a53393, 09a53393, 5d5de...</td>\n",
       "      <td>0</td>\n",
       "    </tr>\n",
       "    <tr>\n",
       "      <th>1</th>\n",
       "      <td>blk_3957344494666888431</td>\n",
       "      <td>[3d91fa85, 09a53393, 09a53393, 09a53393, 5d5de...</td>\n",
       "      <td>0</td>\n",
       "    </tr>\n",
       "    <tr>\n",
       "      <th>2</th>\n",
       "      <td>blk_-4450912181948495777</td>\n",
       "      <td>[09a53393, 09a53393, 09a53393, 3d91fa85, d38aa...</td>\n",
       "      <td>0</td>\n",
       "    </tr>\n",
       "    <tr>\n",
       "      <th>3</th>\n",
       "      <td>blk_-4904433206913224247</td>\n",
       "      <td>[3d91fa85, 09a53393, 09a53393, 09a53393, 5d5de...</td>\n",
       "      <td>0</td>\n",
       "    </tr>\n",
       "    <tr>\n",
       "      <th>4</th>\n",
       "      <td>blk_5764700698147427032</td>\n",
       "      <td>[3d91fa85, 09a53393, 09a53393, 09a53393, d38aa...</td>\n",
       "      <td>0</td>\n",
       "    </tr>\n",
       "  </tbody>\n",
       "</table>\n",
       "</div>"
      ],
      "text/plain": [
       "                    BlockId  \\\n",
       "0  blk_-6133013639818149887   \n",
       "1   blk_3957344494666888431   \n",
       "2  blk_-4450912181948495777   \n",
       "3  blk_-4904433206913224247   \n",
       "4   blk_5764700698147427032   \n",
       "\n",
       "                                       EventSequence  Label  \n",
       "0  [3d91fa85, 09a53393, 09a53393, 09a53393, 5d5de...      0  \n",
       "1  [3d91fa85, 09a53393, 09a53393, 09a53393, 5d5de...      0  \n",
       "2  [09a53393, 09a53393, 09a53393, 3d91fa85, d38aa...      0  \n",
       "3  [3d91fa85, 09a53393, 09a53393, 09a53393, 5d5de...      0  \n",
       "4  [3d91fa85, 09a53393, 09a53393, 09a53393, d38aa...      0  "
      ]
     },
     "execution_count": 13,
     "metadata": {},
     "output_type": "execute_result"
    }
   ],
   "source": [
    "# Shuffle the data\n",
    "data_df = data_df.sample(frac=1).reset_index(drop=True)\n",
    "data_df.head(5)"
   ]
  },
  {
   "cell_type": "code",
   "execution_count": 14,
   "metadata": {
    "id": "aS8_Ioh_5ib8"
   },
   "outputs": [],
   "source": [
    "# Split train and test data\n",
    "train_ratio = 0.7\n",
    "(x_train, y_train), (x_test, y_test) = _split_data(data_df['EventSequence'].values,\n",
    "    data_df['Label'].values, train_ratio)"
   ]
  },
  {
   "cell_type": "markdown",
   "metadata": {
    "id": "QhBg1xfyz9Ed"
   },
   "source": [
    "Summarized the training and testing data."
   ]
  },
  {
   "cell_type": "code",
   "execution_count": 15,
   "metadata": {
    "id": "bmg35PFnyCNw"
   },
   "outputs": [
    {
     "name": "stdout",
     "output_type": "stream",
     "text": [
      "Total: 66170 instances, 2952 anomaly, 63218 normal\n",
      "Train: 46318 instances, 2066 anomaly, 44252 normal\n",
      "Test: 19852 instances, 886 anomaly, 18966 normal\n",
      "\n",
      "====== x_train (first five lines) ======\n",
      "[list(['09a53393', '09a53393', '3d91fa85', '09a53393', 'd38aa58d', 'e3df2680', 'd38aa58d', 'd38aa58d', 'e3df2680', 'e3df2680', '5d5de21c', '5d5de21c', '5d5de21c', '81cee340', '626085d5', '81cee340'])\n",
      " list(['3d91fa85', '09a53393', '09a53393', 'bcc910df'])\n",
      " list(['09a53393', '3d91fa85', '09a53393', 'bcc910df'])\n",
      " list(['3d91fa85', '09a53393'])\n",
      " list(['3d91fa85', '09a53393', '09a53393', '09a53393', '728076ac', '5d5de21c', '5d5de21c', '5d5de21c', 'd38aa58d', 'e3df2680', 'd38aa58d', 'e3df2680', 'd38aa58d', 'e3df2680', '40651754', '09a53393', '5d5de21c', 'd6b7b743', '73c2ec69', 'dba996ef', '32777b38', '32777b38', '626085d5'])]\n",
      "====== y_train (first five lines) ======\n",
      "[1 1 1 1 1]\n"
     ]
    }
   ],
   "source": [
    "num_train = x_train.shape[0]\n",
    "num_test = x_test.shape[0]\n",
    "num_total = num_train + num_test\n",
    "num_train_pos = sum(y_train)\n",
    "num_test_pos = sum(y_test)\n",
    "num_pos = num_train_pos + num_test_pos\n",
    "\n",
    "print('Total: {} instances, {} anomaly, {} normal' \\\n",
    "      .format(num_total, num_pos, num_total - num_pos))\n",
    "print('Train: {} instances, {} anomaly, {} normal' \\\n",
    "      .format(num_train, num_train_pos, num_train - num_train_pos))\n",
    "print('Test: {} instances, {} anomaly, {} normal\\n' \\\n",
    "      .format(num_test, num_test_pos, num_test - num_test_pos))\n",
    "\n",
    "#print(type(x_train))\n",
    "print('====== x_train (first five lines) ======')\n",
    "print(x_train[:5])\n",
    "\n",
    "print('====== y_train (first five lines) ======')\n",
    "print(y_train[:5])"
   ]
  },
  {
   "cell_type": "markdown",
   "metadata": {
    "id": "IrGOjfHmSutl"
   },
   "source": [
    "## Feature Extraction\n",
    "\n",
    "This step is to extract features from logs for subsequent machine learning models.\n",
    "The input is the structured log events, and the ouput is an event count matrix that represents the occurence number of each log event in a log sequence (logs belonging to the same session id in this example)."
   ]
  },
  {
   "cell_type": "markdown",
   "metadata": {
    "id": "3QIIuAQ0rxUl"
   },
   "source": [
    "Transforming the training data: count the occurrences of each event for each session ID."
   ]
  },
  {
   "cell_type": "code",
   "execution_count": 16,
   "metadata": {
    "id": "npLxH8zHkslL"
   },
   "outputs": [
    {
     "name": "stdout",
     "output_type": "stream",
     "text": [
      "====== Transformed train data summary ======\n",
      "Train data shape: 46318-by-36\n",
      "\n",
      "[[3. 1. 3. 3. 3. 2. 1. 0. 0. 0. 0. 0. 0. 0. 0. 0. 0. 0. 0. 0. 0. 0. 0. 0.\n",
      "  0. 0. 0. 0. 0. 0. 0. 0. 0. 0. 0. 0.]\n",
      " [2. 1. 0. 0. 0. 0. 0. 1. 0. 0. 0. 0. 0. 0. 0. 0. 0. 0. 0. 0. 0. 0. 0. 0.\n",
      "  0. 0. 0. 0. 0. 0. 0. 0. 0. 0. 0. 0.]\n",
      " [2. 1. 0. 0. 0. 0. 0. 1. 0. 0. 0. 0. 0. 0. 0. 0. 0. 0. 0. 0. 0. 0. 0. 0.\n",
      "  0. 0. 0. 0. 0. 0. 0. 0. 0. 0. 0. 0.]\n",
      " [1. 1. 0. 0. 0. 0. 0. 0. 0. 0. 0. 0. 0. 0. 0. 0. 0. 0. 0. 0. 0. 0. 0. 0.\n",
      "  0. 0. 0. 0. 0. 0. 0. 0. 0. 0. 0. 0.]\n",
      " [4. 1. 3. 3. 4. 0. 1. 0. 1. 1. 1. 1. 1. 2. 0. 0. 0. 0. 0. 0. 0. 0. 0. 0.\n",
      "  0. 0. 0. 0. 0. 0. 0. 0. 0. 0. 0. 0.]]\n"
     ]
    }
   ],
   "source": [
    "def transform_train_data(X_seq):\n",
    "    X_counts = []\n",
    "    for i in range(X_seq.shape[0]):\n",
    "        event_counts = Counter(X_seq[i])\n",
    "        X_counts.append(event_counts)\n",
    "    X_df = pd.DataFrame(X_counts)\n",
    "    X_df = X_df.fillna(0)\n",
    "    events = X_df.columns\n",
    "    X = X_df.values\n",
    "    return (X, events)\n",
    "\n",
    "transformed = transform_train_data(x_train)\n",
    "x_train = transformed[0]\n",
    "# The events in the training data,\n",
    "# used later to ingore the events in the test data that is unseen in the training data\n",
    "events = transformed[1]\n",
    "\n",
    "print('====== Transformed train data summary ======')\n",
    "print('Train data shape: {}-by-{}\\n'.format(x_train.shape[0], x_train.shape[1]))\n",
    "print(x_train[:5])"
   ]
  },
  {
   "cell_type": "markdown",
   "metadata": {
    "id": "hdlopMDYsFjp"
   },
   "source": [
    "Transforming the testing data: count the occurrences of each event for each session ID, ignoring the events that do not exist in the training data."
   ]
  },
  {
   "cell_type": "code",
   "execution_count": 17,
   "metadata": {
    "id": "EJpH_EEbmY_C"
   },
   "outputs": [
    {
     "name": "stdout",
     "output_type": "stream",
     "text": [
      "====== Transformed test data summary ======\n",
      "Test data shape: 19852-by-36\n",
      "\n",
      "[[3. 1. 3. 3. 3. 2. 1. 0. 0. 0. 0. 0. 0. 0. 0. 0. 0. 0. 0. 0. 0. 0. 0. 0.\n",
      "  0. 0. 0. 0. 0. 0. 0. 0. 0. 0. 0. 0.]\n",
      " [3. 1. 3. 3. 3. 0. 0. 0. 0. 0. 0. 0. 0. 0. 0. 0. 0. 0. 0. 0. 0. 0. 0. 0.\n",
      "  0. 0. 0. 0. 0. 0. 0. 0. 0. 0. 0. 0.]\n",
      " [3. 1. 3. 3. 3. 2. 1. 0. 0. 0. 0. 0. 0. 1. 0. 0. 0. 0. 0. 0. 0. 0. 0. 0.\n",
      "  0. 0. 0. 0. 0. 0. 0. 0. 0. 0. 0. 0.]\n",
      " [3. 1. 3. 3. 3. 2. 1. 0. 0. 0. 0. 0. 0. 3. 0. 0. 0. 0. 0. 0. 0. 0. 0. 0.\n",
      "  0. 0. 0. 0. 0. 0. 0. 0. 0. 0. 0. 0.]\n",
      " [3. 1. 3. 3. 3. 2. 1. 0. 0. 0. 0. 0. 0. 1. 0. 0. 0. 0. 0. 0. 0. 0. 0. 0.\n",
      "  0. 0. 0. 0. 0. 0. 0. 0. 0. 0. 0. 0.]]\n"
     ]
    }
   ],
   "source": [
    "def transform_test_data(X_seq, events):\n",
    "    X_counts = []\n",
    "    for i in range(X_seq.shape[0]):\n",
    "        event_counts = Counter(X_seq[i])\n",
    "        X_counts.append(event_counts)\n",
    "    X_df = pd.DataFrame(X_counts)\n",
    "    X_df = X_df.fillna(0)\n",
    "    # treat the counts of the missing events as 0s\n",
    "    empty_events = set(events) - set(X_df.columns)\n",
    "    for event in empty_events:\n",
    "        X_df[event] = [0] * len(X_df)\n",
    "    X = X_df[events].values\n",
    "    return X\n",
    "\n",
    "x_test = transform_test_data(x_test, events)\n",
    "\n",
    "print('====== Transformed test data summary ======')\n",
    "print('Test data shape: {}-by-{}\\n'.format(x_test.shape[0], x_test.shape[1]))\n",
    "print(x_test[:5])"
   ]
  },
  {
   "cell_type": "markdown",
   "metadata": {
    "id": "qdbQQs9WUKZs"
   },
   "source": [
    "## Construting a logistic regression model\n",
    "Construct a logistic regrssion model using the trining data, using the *LogisticRegression* method from the **sklearn** library."
   ]
  },
  {
   "cell_type": "code",
   "execution_count": 18,
   "metadata": {
    "id": "y2uHOoCXKjm1"
   },
   "outputs": [
    {
     "data": {
      "text/plain": [
       "LogisticRegression(C=100, max_iter=1000, tol=0.01)"
      ]
     },
     "execution_count": 18,
     "metadata": {},
     "output_type": "execute_result"
    }
   ],
   "source": [
    "lr_classifier = LogisticRegression(penalty='l2', C=100, tol=0.01, class_weight=None, max_iter=1000)\n",
    "\n",
    "lr_classifier.fit(x_train, y_train)"
   ]
  },
  {
   "cell_type": "markdown",
   "metadata": {
    "id": "G7SRlY2TU10c"
   },
   "source": [
    "## Evaluate the performance of the logistic regression model\n",
    "\n",
    "We evaluate the model's performance on the testing set.\n",
    "\n"
   ]
  },
  {
   "cell_type": "markdown",
   "metadata": {
    "id": "RLrqwYUw9lQm"
   },
   "source": [
    "### Precision, recall, f1-score, and precision-recall curve\n",
    "We use the *precision_recall_fscore_support* method from the **sklearn** library to calculate the precision, recall, and f1 measure."
   ]
  },
  {
   "cell_type": "code",
   "execution_count": 19,
   "metadata": {
    "id": "l7q3dvvsKsOy"
   },
   "outputs": [
    {
     "name": "stdout",
     "output_type": "stream",
     "text": [
      "Test validation:\n",
      "====== Evaluation summary ======\n",
      "Precision: 0.994, recall: 0.537, F1-measure: 0.697\n",
      "\n"
     ]
    }
   ],
   "source": [
    "print('Test validation:')\n",
    "print('====== Evaluation summary ======')\n",
    "y_test_pred_lr = lr_classifier.predict(x_test)\n",
    "\n",
    "precision, recall, f1, _ = precision_recall_fscore_support(y_test, y_test_pred_lr, average='binary')\n",
    "print('Precision: {:.3f}, recall: {:.3f}, F1-measure: {:.3f}\\n'.format(precision, recall, f1))"
   ]
  },
  {
   "cell_type": "markdown",
   "metadata": {
    "id": "pSW2pZoUTACu"
   },
   "source": [
    "**Precision and recall are sensitive to the cutting threshold of the predicted probability**"
   ]
  },
  {
   "cell_type": "code",
   "execution_count": 20,
   "metadata": {
    "id": "WkL5mQQGS7kB"
   },
   "outputs": [
    {
     "data": {
      "text/plain": [
       "Text(0.5, 1.0, '2-class Precision-Recall curve')"
      ]
     },
     "execution_count": 20,
     "metadata": {},
     "output_type": "execute_result"
    },
    {
     "data": {
      "image/png": "[encoded data removed]",
      "text/plain": [
       "<Figure size 640x480 with 1 Axes>"
      ]
     },
     "metadata": {},
     "output_type": "display_data"
    }
   ],
   "source": [
    "y_test_pred_proba_lr = lr_classifier.predict_proba(x_test)[:,1] # predicted probabilities for being \"anomaly\"\n",
    "\n",
    "precision, recall, thresholds = precision_recall_curve(y_test, y_test_pred_proba_lr)\n",
    "\n",
    "plt.step(recall, precision, color='b', alpha=0.2,\n",
    "         where='post')\n",
    "plt.fill_between(recall, precision, step='post', alpha=0.2,\n",
    "                 color='b')\n",
    "\n",
    "plt.xlabel('Recall')\n",
    "plt.ylabel('Precision')\n",
    "plt.ylim([0.0, 1.05])\n",
    "plt.xlim([0.0, 1.0])\n",
    "plt.title('2-class Precision-Recall curve')"
   ]
  },
  {
   "cell_type": "markdown",
   "metadata": {
    "id": "XkFc5ceu7Yfg"
   },
   "source": [
    "### ROC curve and AUC\n",
    "The **ROC curve** is the true positive rate plotted against the false positive rate. We need the predicted probabilities to plot and ROC curves and teh AUC values."
   ]
  },
  {
   "cell_type": "code",
   "execution_count": 21,
   "metadata": {
    "id": "nrfvxKrj7N5W"
   },
   "outputs": [],
   "source": [
    "y_test_pred_proba_lr = lr_classifier.predict_proba(x_test)[:,1] # predicted probabilities for being \"anomaly\"\n"
   ]
  },
  {
   "cell_type": "markdown",
   "metadata": {
    "id": "RdBWejVO8HlC"
   },
   "source": [
    "We use the *pyplot* method in the **matplotlib** library to plot the roc curves."
   ]
  },
  {
   "cell_type": "code",
   "execution_count": 22,
   "metadata": {
    "id": "WzK2WPD77wnJ"
   },
   "outputs": [],
   "source": [
    "def plot_roc_curve(fpr, tpr):\n",
    "    plt.plot(fpr, tpr, color='orange', label='ROC')\n",
    "    plt.plot([0, 1], [0, 1], color='darkblue', linestyle='--')\n",
    "    plt.xlabel('False Positive Rate')\n",
    "    plt.ylabel('True Positive Rate')\n",
    "    plt.title('Receiver Operating Characteristic (ROC) Curve')\n",
    "    plt.legend()\n",
    "    plt.show()"
   ]
  },
  {
   "cell_type": "markdown",
   "metadata": {
    "id": "b-rtPrPb9W2T"
   },
   "source": [
    "We use the *roc_curve* method from the **sklearn** library to calculate the false positve and true prositive values for plotting the roc curves."
   ]
  },
  {
   "cell_type": "code",
   "execution_count": 23,
   "metadata": {
    "id": "IiDcPRZX8abs"
   },
   "outputs": [
    {
     "data": {
      "image/png": "[encoded data removed]",
      "text/plain": [
       "<Figure size 640x480 with 1 Axes>"
      ]
     },
     "metadata": {},
     "output_type": "display_data"
    }
   ],
   "source": [
    "fpr, tpr, thresholds = roc_curve(y_test, y_test_pred_proba_lr)\n",
    "plot_roc_curve(fpr, tpr)"
   ]
  },
  {
   "cell_type": "markdown",
   "metadata": {
    "id": "WH3Kalot97ye"
   },
   "source": [
    "The **AUC** is the area under the ROC curve, ranging from 0 to 1, the higher the better. A random guess model usually gets an AUC of 0.5. We use the *roc_auc_score* method from the **sklearn** library to calculate the AUC value."
   ]
  },
  {
   "cell_type": "code",
   "execution_count": 24,
   "metadata": {
    "id": "eU3C2k7G9_P_"
   },
   "outputs": [
    {
     "name": "stdout",
     "output_type": "stream",
     "text": [
      "AUC: 0.789\n",
      "\n"
     ]
    }
   ],
   "source": [
    "roc_auc = roc_auc_score(y_test, y_test_pred_proba_lr)\n",
    "print('AUC: %.3f\\n' % roc_auc)"
   ]
  },
  {
   "cell_type": "markdown",
   "metadata": {
    "id": "dpuQM1ettJsx"
   },
   "source": [
    "## Constructing a decision tree model\n",
    "Constructing a decision tree model using the *DecisionTreeClassifier* method from the **sklearn** library."
   ]
  },
  {
   "cell_type": "code",
   "execution_count": 25,
   "metadata": {
    "id": "DG-zHUwXto9R"
   },
   "outputs": [
    {
     "data": {
      "text/plain": [
       "DecisionTreeClassifier()"
      ]
     },
     "execution_count": 25,
     "metadata": {},
     "output_type": "execute_result"
    }
   ],
   "source": [
    "dt_classifier = DecisionTreeClassifier(criterion='gini', max_depth=None,\n",
    "                          max_features=None, class_weight=None)\n",
    "dt_classifier.fit(x_train, y_train)"
   ]
  },
  {
   "cell_type": "markdown",
   "metadata": {
    "id": "2gZ2Qp48u8kX"
   },
   "source": [
    "## Evaluate the performance of the decision tree model\n",
    "\n",
    "We evaluate the model's performance on the testing set."
   ]
  },
  {
   "cell_type": "markdown",
   "metadata": {
    "id": "ORdhk4DbxtxK"
   },
   "source": [
    "### Precision, recall, and f1-score\n",
    "\n",
    "We use the precision_recall_fscore_support method from the sklearn library to calculate the precision, recall, and f1 measure."
   ]
  },
  {
   "cell_type": "code",
   "execution_count": 26,
   "metadata": {
    "id": "beOqGLHXvT1c"
   },
   "outputs": [
    {
     "name": "stdout",
     "output_type": "stream",
     "text": [
      "Test validation:\n",
      "====== Evaluation summary ======\n",
      "Precision: 1.000, recall: 0.538, F1-measure: 0.700\n",
      "\n"
     ]
    }
   ],
   "source": [
    "print('Test validation:')\n",
    "print('====== Evaluation summary ======')\n",
    "y_test_pred_dt = dt_classifier.predict(x_test)\n",
    "\n",
    "precision, recall, f1, _ = precision_recall_fscore_support(y_test, y_test_pred_dt, average='binary')\n",
    "print('Precision: {:.3f}, recall: {:.3f}, F1-measure: {:.3f}\\n'.format(precision, recall, f1))"
   ]
  },
  {
   "cell_type": "markdown",
   "metadata": {
    "id": "fDshcn35v324"
   },
   "source": [
    "### AUC\n",
    "We need the predicted probabilities to calculate the AUC value."
   ]
  },
  {
   "cell_type": "code",
   "execution_count": 27,
   "metadata": {
    "id": "QAugQsU2v6Bw"
   },
   "outputs": [],
   "source": [
    "y_test_pred_proba_dt = dt_classifier.predict_proba(x_test)[:,1] # predicted probabilities for being \"anomaly\""
   ]
  },
  {
   "cell_type": "markdown",
   "metadata": {
    "id": "CwVJCIZ9wUtC"
   },
   "source": [
    "The AUC is the area under the ROC curve, ranging from 0 to 1, the higher the better. A random guess model usually gets an AUC of 0.5. We use the roc_auc_score method from the sklearn library to calculate the AUC value."
   ]
  },
  {
   "cell_type": "code",
   "execution_count": 28,
   "metadata": {
    "id": "AN1McYUqwk-0"
   },
   "outputs": [
    {
     "name": "stdout",
     "output_type": "stream",
     "text": [
      "AUC: 0.785\n",
      "\n"
     ]
    }
   ],
   "source": [
    "roc_auc = roc_auc_score(y_test, y_test_pred_proba_dt)\n",
    "print('AUC: %.3f\\n' % roc_auc)"
   ]
  }
 ],
 "metadata": {
  "colab": {
   "provenance": []
  },
  "kernelspec": {
   "display_name": "Python 3 (ipykernel)",
   "language": "python",
   "name": "python3"
  },
  "language_info": {
   "codemirror_mode": {
    "name": "ipython",
    "version": 3
   },
   "file_extension": ".py",
   "mimetype": "text/x-python",
   "name": "python",
   "nbconvert_exporter": "python",
   "pygments_lexer": "ipython3",
   "version": "3.9.13"
  }
 },
 "nbformat": 4,
 "nbformat_minor": 1
}
